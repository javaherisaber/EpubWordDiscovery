{
 "cells": [
  {
   "cell_type": "code",
   "execution_count": 9,
   "metadata": {
    "collapsed": true,
    "pycharm": {
     "name": "#%%\n"
    }
   },
   "outputs": [],
   "source": [
    "# Use this command to download a corpus `python -m nltk.downloader Gutenburg`\n",
    "from epub_conversion.utils import open_book, convert_epub_to_lines\n",
    "import re\n",
    "from nltk.corpus import stopwords\n",
    "from nltk.corpus import words\n",
    "from operator import itemgetter\n",
    "\n",
    "# unusual words are those which are not in dictionary\n",
    "def unusual_words(text):\n",
    "    text_vocab = set(w.lower() for w in text)\n",
    "    eng_vocab = set(w.lower() for w in words.words())\n",
    "    unusual = text_vocab - eng_vocab\n",
    "    return unusual\n",
    "\n",
    "def least_frequent_words(distinct_words, all_words):\n",
    "    all_words_lower = [w.lower() for w in all_words]\n",
    "    occurrence_dict = {w: all_words_lower.count(w) for w in distinct_words}\n",
    "    return sorted(occurrence_dict.items(), key=itemgetter(1))\n",
    "\n",
    "def most_frequent_words(distinct_words, all_words):\n",
    "    return list(reversed(least_frequent_words(distinct_words, all_words)))\n",
    "\n",
    "# Import book\n",
    "book = open_book(\"your_book.epub\")\n",
    "lines = convert_epub_to_lines(book)\n",
    "\n",
    "# Clean up and pre-processing\n",
    "cleanedLines = [re.sub('(<[^<]+?>)|(\\.)|(,)|(\\s\\s+)|(:)|(\\\")|(“)|(\\()|(\\))|(\\?)|(\\[)|(])|(©)|(”)|(!)|(/)|(\\\\\\)|(\\|)|(\\*)|(>)|(<)|(;)|(—)', ' ', line) for line in lines]  # Remove non-alpha chars\n",
    "cleanedLines = [x.lstrip() for x in cleanedLines]  # Remove leading spaces\n",
    "cleanedLines = [x.rstrip() for x in cleanedLines]  # Remove trailing spaces\n",
    "wordsStr = ' '.join(l for l in cleanedLines)\n",
    "wordsList = wordsStr.split(' ')\n",
    "enStopWords = stopwords.words('english')  # stop words eg. (to, as, you're)\n",
    "wordsList = [x for x in wordsList if (x.isdigit() == False and x != '' and len(x) > 2 and re.search('[a-zA-Z]+', x) and ('&' not in x) and (x[0].isalpha()) and (any(i.isdigit() for i in x) == False) and (x not in enStopWords))]\n",
    "\n",
    "# Results\n",
    "allWords = wordsList\n",
    "distinctWords = set(wordsList)\n",
    "unusualWords = unusual_words(distinctWords)\n",
    "withinDict = sorted(set(w.lower() for w in distinctWords) - set(unusualWords))\n",
    "leastFrequentWords = least_frequent_words(withinDict, allWords)\n",
    "mostFrequentWords = most_frequent_words(withinDict, allWords)"
   ]
  }
 ],
 "metadata": {
  "kernelspec": {
   "display_name": "Python 3 (ipykernel)",
   "language": "python",
   "name": "python3"
  },
  "language_info": {
   "codemirror_mode": {
    "name": "ipython",
    "version": 3
   },
   "file_extension": ".py",
   "mimetype": "text/x-python",
   "name": "python",
   "nbconvert_exporter": "python",
   "pygments_lexer": "ipython3",
   "version": "3.9.12"
  }
 },
 "nbformat": 4,
 "nbformat_minor": 1
}